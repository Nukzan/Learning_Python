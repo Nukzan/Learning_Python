{
  "nbformat": 4,
  "nbformat_minor": 0,
  "metadata": {
    "colab": {
      "name": "200622_AI_Perceptron.ipynb",
      "provenance": []
    },
    "kernelspec": {
      "name": "python3",
      "display_name": "Python 3"
    }
  },
  "cells": [
    {
      "cell_type": "markdown",
      "metadata": {
        "id": "2oghxNGbXWX4",
        "colab_type": "text"
      },
      "source": [
        "# Libraries"
      ]
    },
    {
      "cell_type": "code",
      "metadata": {
        "id": "En0-mtdUXWJd",
        "colab_type": "code",
        "colab": {}
      },
      "source": [
        "import tensorflow as tf\n",
        "from tensorflow.keras import layers\n",
        "from tensorflow.keras.layers.experimental.preprocessing import Normalization\n",
        "\n",
        "from tensorflow.keras.datasets import boston_housing\n",
        "\n",
        "import numpy as np\n",
        "from sklearn.preprocessing import StandardScaler\n",
        "from sklearn.model_selection import train_test_split"
      ],
      "execution_count": 3,
      "outputs": []
    },
    {
      "cell_type": "markdown",
      "metadata": {
        "id": "5FALCMdLXMLy",
        "colab_type": "text"
      },
      "source": [
        "# Basic"
      ]
    },
    {
      "cell_type": "markdown",
      "metadata": {
        "id": "G7pqpvtLXRxf",
        "colab_type": "text"
      },
      "source": [
        "## XOR\n",
        "\n",
        "- AND, NAND OR 를 혼합하여 사용하므로 XOR 방식이라 여겨짐"
      ]
    },
    {
      "cell_type": "code",
      "metadata": {
        "id": "prRlICk6RKQG",
        "colab_type": "code",
        "colab": {}
      },
      "source": [
        "x_train = np.array([[0,0],[0,1],[1,0],[1,1]])\n",
        "y_train = np.array([[0],[1],[1],[0]])\n",
        "\n",
        "model = tf.keras.Sequential()\n",
        "\n",
        "model.add(layers.Input(2))\n",
        "model.add(layers.Dense(4, activation = 'sigmoid'))\n",
        "model.add(layers.Dense(1, activation='sigmoid'))\n",
        "\n",
        "model.compile(loss='mse', optimizer='Adam', metrics=['binary_accuracy'])\n",
        "\n",
        "model.fit(x_train, y_train, epochs=100, verbose=1)"
      ],
      "execution_count": null,
      "outputs": []
    },
    {
      "cell_type": "code",
      "metadata": {
        "id": "4c4wdgDPYIWk",
        "colab_type": "code",
        "colab": {
          "base_uri": "https://localhost:8080/",
          "height": 53
        },
        "outputId": "29c06823-1ae4-409e-857a-70195411de15"
      },
      "source": [
        "model.evaluate(x_train, y_train, batch_size=128)"
      ],
      "execution_count": null,
      "outputs": [
        {
          "output_type": "stream",
          "text": [
            "1/1 [==============================] - 0s 1ms/step - loss: 0.2668 - binary_accuracy: 0.5000\n"
          ],
          "name": "stdout"
        },
        {
          "output_type": "execute_result",
          "data": {
            "text/plain": [
              "[0.26684948801994324, 0.5]"
            ]
          },
          "metadata": {
            "tags": []
          },
          "execution_count": 4
        }
      ]
    },
    {
      "cell_type": "code",
      "metadata": {
        "id": "ut55iOLFYNw2",
        "colab_type": "code",
        "colab": {
          "base_uri": "https://localhost:8080/",
          "height": 89
        },
        "outputId": "a5def1ae-4434-4b3c-9d1c-2010ff361bfa"
      },
      "source": [
        "model.predict(x_train)"
      ],
      "execution_count": null,
      "outputs": [
        {
          "output_type": "execute_result",
          "data": {
            "text/plain": [
              "array([[0.65848726],\n",
              "       [0.6056098 ],\n",
              "       [0.6127907 ],\n",
              "       [0.5729902 ]], dtype=float32)"
            ]
          },
          "metadata": {
            "tags": []
          },
          "execution_count": 5
        }
      ]
    },
    {
      "cell_type": "code",
      "metadata": {
        "id": "FTsqVrvdYUHP",
        "colab_type": "code",
        "colab": {
          "base_uri": "https://localhost:8080/",
          "height": 35
        },
        "outputId": "c4191045-76fd-4072-c6f8-ab986e4a8635"
      },
      "source": [
        "x_train.shape"
      ],
      "execution_count": null,
      "outputs": [
        {
          "output_type": "execute_result",
          "data": {
            "text/plain": [
              "(4, 2)"
            ]
          },
          "metadata": {
            "tags": []
          },
          "execution_count": 6
        }
      ]
    },
    {
      "cell_type": "markdown",
      "metadata": {
        "id": "ZcR9_p9ma67I",
        "colab_type": "text"
      },
      "source": [
        "## Layers"
      ]
    },
    {
      "cell_type": "code",
      "metadata": {
        "id": "IuKcvtXnY5bd",
        "colab_type": "code",
        "colab": {}
      },
      "source": [
        "xL = np.array([[0,2],[1,3],[2,4],[3,5],])\n",
        "yL = np.array([6,9,11.5,14.5,])\n",
        "\n",
        "modelL = tf.keras.Sequential()\n",
        "\n",
        "modelL.add(layers.Input(2))\n",
        "modelL.add(layers.Dense(1))\n",
        "\n",
        "modelL.compile(optimizer = 'SGD', loss = 'mse')\n",
        "\n",
        "modelL.summary()"
      ],
      "execution_count": null,
      "outputs": []
    },
    {
      "cell_type": "code",
      "metadata": {
        "id": "R_OPB-UcbVMG",
        "colab_type": "code",
        "colab": {}
      },
      "source": [
        "modelL.fit(xL, yL, epochs=100)"
      ],
      "execution_count": null,
      "outputs": []
    },
    {
      "cell_type": "code",
      "metadata": {
        "id": "jsRyX-HzbvD7",
        "colab_type": "code",
        "colab": {
          "base_uri": "https://localhost:8080/",
          "height": 53
        },
        "outputId": "6d83c18c-f439-475c-d423-42c46fb25ff7"
      },
      "source": [
        "modelL.evaluate(xL, yL)"
      ],
      "execution_count": null,
      "outputs": [
        {
          "output_type": "stream",
          "text": [
            "1/1 [==============================] - 0s 2ms/step - loss: 0.1232\n"
          ],
          "name": "stdout"
        },
        {
          "output_type": "execute_result",
          "data": {
            "text/plain": [
              "0.12317752093076706"
            ]
          },
          "metadata": {
            "tags": []
          },
          "execution_count": 16
        }
      ]
    },
    {
      "cell_type": "code",
      "metadata": {
        "id": "oEywhhpNbyP0",
        "colab_type": "code",
        "colab": {
          "base_uri": "https://localhost:8080/",
          "height": 35
        },
        "outputId": "5d5344e0-1d69-4e94-b597-81e56fbfa7d4"
      },
      "source": [
        "modelL.predict([[8,10]])"
      ],
      "execution_count": null,
      "outputs": [
        {
          "output_type": "execute_result",
          "data": {
            "text/plain": [
              "array([[30.147764]], dtype=float32)"
            ]
          },
          "metadata": {
            "tags": []
          },
          "execution_count": 17
        }
      ]
    },
    {
      "cell_type": "markdown",
      "metadata": {
        "id": "yX3Uj7EI0aKi",
        "colab_type": "text"
      },
      "source": [
        "# Preprocessing"
      ]
    },
    {
      "cell_type": "markdown",
      "metadata": {
        "id": "BA0eFeJw0eH4",
        "colab_type": "text"
      },
      "source": [
        "## Scaling & Normalizing\n",
        "\n",
        "- Normalizer : 데이터의 범위를 0과 1로 변환 후 분포를 조정한다\n",
        "\n",
        "- Scaler : 데이터 단위 등에 따라 크기 격차가 클 경우 사용한다"
      ]
    },
    {
      "cell_type": "code",
      "metadata": {
        "id": "pPPXhYD3b1gZ",
        "colab_type": "code",
        "colab": {}
      },
      "source": [
        "# Data\n",
        "(X,Y), (x_test, y_test) = boston_housing.load_data()\n",
        "\n",
        "# Normalizing\n",
        "normalizer = Normalization(axis=-1)\n",
        "normalizer.adapt(X)\n",
        "\n",
        "X_N = normalizer(X).numpy()\n",
        "x_test_N = normalizer(x_test)\n",
        "\n",
        "x_train_N, x_val_N, y_train, y_val = train_test_split(X_N, Y, test_size = 0.3)\n",
        "\n",
        "# Standard Scaling\n",
        "scaler = StandardScaler()\n",
        "\n",
        "X_S = scaler.fit_transform(X)\n",
        "x_test_S = scaler.fit_transform(x_test)\n",
        "\n",
        "x_train_s, x_val_s = train_test_split(X_S,test_size = 0.3)"
      ],
      "execution_count": 12,
      "outputs": []
    },
    {
      "cell_type": "code",
      "metadata": {
        "id": "30m2bRSP1L3Y",
        "colab_type": "code",
        "colab": {}
      },
      "source": [
        "# modeling - Normalizing\n",
        "\n",
        "model_N = tf.keras.Sequential()\n",
        "\n",
        "model_N.add(layers.Input(shape = x_train.shape[1]))\n",
        "model_N.add(layers.Dense(128, activation='sigmoid'))\n",
        "model_N.add(layers.Dense(1))\n",
        "\n",
        "model_N.compile(optimizer='rmsprop', loss='mse', metrics=['mae'])\n",
        "\n",
        "model_N.fit(x_train_N, y_train, epochs=100, batch_size = 16, validation_data = (x_val_N, y_val))"
      ],
      "execution_count": null,
      "outputs": []
    },
    {
      "cell_type": "code",
      "metadata": {
        "id": "m5v8QvIk4ZUS",
        "colab_type": "code",
        "colab": {}
      },
      "source": [
        "# modeling - Standard Scaling\n",
        "\n",
        "model_S = tf.keras.Sequential()\n",
        "\n",
        "model_S.add(layers.Input(shape = x_train.shape[1]))\n",
        "model_S.add(layers.Dense(128, activation='sigmoid'))\n",
        "model_S.add(layers.Dense(1))\n",
        "\n",
        "model_S.compile(optimizer='rmsprop', loss='mse', metrics=['mae'])\n",
        "\n",
        "model_S.fit(x_train_s, y_train, epochs=100, batch_size = 16, validation_data = (x_val_s, y_val))"
      ],
      "execution_count": null,
      "outputs": []
    },
    {
      "cell_type": "code",
      "metadata": {
        "id": "A56g96eO1nRp",
        "colab_type": "code",
        "colab": {
          "base_uri": "https://localhost:8080/",
          "height": 143
        },
        "outputId": "3fe98171-a1ff-45e1-af97-47d319b259cd"
      },
      "source": [
        "pred_N = model.predict(x_test_N[:3])\n",
        "pred_S = model.predict(x_test_S[:3])\n",
        "\n",
        "print(\"normalizer answer : \", pred_N)\n",
        "print(\"scaler answer : \", pred_S)\n",
        "print(\"real answer : \", y_test[:3])"
      ],
      "execution_count": 16,
      "outputs": [
        {
          "output_type": "stream",
          "text": [
            "normalizer answer :  [[ 9.665401]\n",
            " [20.760298]\n",
            " [20.32351 ]]\n",
            "scaler answer :  [[ 7.129275]\n",
            " [19.514158]\n",
            " [19.946955]]\n",
            "real answer :  [ 7.2 18.8 19. ]\n"
          ],
          "name": "stdout"
        }
      ]
    },
    {
      "cell_type": "code",
      "metadata": {
        "id": "Rh5Zw39I1xh7",
        "colab_type": "code",
        "colab": {}
      },
      "source": [
        ""
      ],
      "execution_count": null,
      "outputs": []
    }
  ]
}